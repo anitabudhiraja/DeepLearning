{
 "cells": [
  {
   "cell_type": "code",
   "execution_count": null,
   "metadata": {},
   "outputs": [],
   "source": [
    "#Preprocessing Steps\n",
    "#1.Filling missing vaues\n",
    "#2.converting catgorical values to numeric\n",
    "#3. bring all variables to 0 to 1\n",
    "import pandas as pd\n",
    "data=pd.read_csv(\"loan_data_set.csv\")\n",
    "data.shape"
   ]
  },
  {
   "cell_type": "code",
   "execution_count": null,
   "metadata": {},
   "outputs": [],
   "source": [
    "#imputing the missing values, for categorical use mode\n",
    "data[\"Gender\"].fillna(data[\"Gender\"].mode()[0],inplace=True)\n",
    "data[\"Married\"].fillna(data[\"Married\"].mode()[0],inplace=True)\n",
    "data[\"Dependents\"].fillna(data[\"Dependents\"].mode()[0],inplace=True)\n",
    "data[\"Self_Employed\"].fillna(data[\"Self_Employed\"].mode()[0],inplace=True)\n",
    "data[\"Loan_Amount_Term\"].fillna(data[\"Loan_Amount_Term\"].mode()[0],inplace=True)\n",
    "data[\"Credit_History\"].fillna(data[\"Credit_History\"].mode()[0],inplace=True)"
   ]
  },
  {
   "cell_type": "code",
   "execution_count": null,
   "metadata": {},
   "outputs": [],
   "source": [
    "#converting categories to numbers using map\n",
    "data[\"Gender\"]= data[\"Gender\"].map({'Male':0,'Female':1})\n",
    "data[\"Married\"]=data[\"Married\"].map({'No':0,'Yes':1})\n",
    "data[\"Dependents\"]=data[\"Dependents\"].map({'0':0,'1':1,'2':2,'3+':3})\n",
    "data[\"Education\"]=data[\"Education\"].map({'Graduate':1,'Non Graduate': 0})\n",
    "data[\"Self_Employed\"]=data[\"Self_Employed\"].map({'No':0,'Yes':1})\n",
    "data[\"Property_Area\"]=data[\"Property_Area\"].map({'Rural':0,'Semi-urban':1,'Urban':2})\n",
    "data[\"Loan_Status\"]=data[\"Loan_Status\"].map({'N':0,'Y':1})"
   ]
  }
 ],
 "metadata": {
  "kernelspec": {
   "display_name": "Python 3",
   "language": "python",
   "name": "python3"
  },
  "language_info": {
   "codemirror_mode": {
    "name": "ipython",
    "version": 3
   },
   "file_extension": ".py",
   "mimetype": "text/x-python",
   "name": "python",
   "nbconvert_exporter": "python",
   "pygments_lexer": "ipython3",
   "version": "3.6.4"
  }
 },
 "nbformat": 4,
 "nbformat_minor": 2
}
