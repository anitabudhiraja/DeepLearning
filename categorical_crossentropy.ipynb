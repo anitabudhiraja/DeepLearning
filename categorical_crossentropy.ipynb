{
  "nbformat": 4,
  "nbformat_minor": 0,
  "metadata": {
    "colab": {
      "name": "Untitled13.ipynb",
      "provenance": [],
      "authorship_tag": "ABX9TyMdt8eFWRwxiBOOetllkMWy",
      "include_colab_link": true
    },
    "kernelspec": {
      "name": "python3",
      "display_name": "Python 3"
    },
    "language_info": {
      "name": "python"
    }
  },
  "cells": [
    {
      "cell_type": "markdown",
      "metadata": {
        "id": "view-in-github",
        "colab_type": "text"
      },
      "source": [
        "<a href=\"https://colab.research.google.com/github/anitabudhiraja/DeepLearning/blob/main/categorical_crossentropy.ipynb\" target=\"_parent\"><img src=\"https://colab.research.google.com/assets/colab-badge.svg\" alt=\"Open In Colab\"/></a>"
      ]
    },
    {
      "cell_type": "code",
      "metadata": {
        "id": "04BlqMal42_g"
      },
      "source": [
        "import tensorflow\n",
        "from tensorflow.keras.models import Sequential\n",
        "from tensorflow.keras.layers import Dense\n",
        "from tensorflow.keras.losses import CategoricalCrossentropy\n",
        "from tensorflow.keras.utils import to_categorical\n",
        "import matplotlib.pyplot as plt\n",
        "import numpy as np\n",
        "from sklearn.datasets import make_blobs\n",
        "from mlxtend.plotting import plot_decision_regions"
      ],
      "execution_count": null,
      "outputs": []
    },
    {
      "cell_type": "code",
      "metadata": {
        "id": "tUeCMG1u46Me"
      },
      "source": [
        "# make_blobs here – it allows us to make clusters of data instead of to draw two circles. "
      ],
      "execution_count": null,
      "outputs": []
    },
    {
      "cell_type": "code",
      "metadata": {
        "id": "oVOAgpkc5DFH"
      },
      "source": [
        "# Configuration options\n",
        "num_samples_total = 1000\n",
        "training_split = 250\n",
        "cluster_centers = [(15,0), (15,15), (0,15), (30,15)]\n",
        "num_classes = len(cluster_centers)\n",
        "loss_function_used = CategoricalCrossentropy(from_logits=True)\n",
        "# set from_logits = True because of Softmax constraints"
      ],
      "execution_count": null,
      "outputs": []
    },
    {
      "cell_type": "markdown",
      "metadata": {
        "id": "Aw6llQ-y5WMt"
      },
      "source": [
        "Dataset generation, preparation & visualization"
      ]
    },
    {
      "cell_type": "code",
      "metadata": {
        "id": "kWuTJPMk5DLH"
      },
      "source": [
        "X, targets = make_blobs(n_samples = num_samples_total, centers = cluster_centers, n_features = num_classes, center_box=(0, 1), cluster_std = 1.5)\n",
        "categorical_targets = to_categorical(targets)\n",
        "X_training = X[training_split:, :]\n",
        "X_testing = X[:training_split, :]\n",
        "Targets_training = categorical_targets[training_split:]\n",
        "Targets_testing = categorical_targets[:training_split].astype(np.int32)"
      ],
      "execution_count": null,
      "outputs": []
    },
    {
      "cell_type": "code",
      "metadata": {
        "id": "mVTSVCuo5DOl"
      },
      "source": [
        "# Set shape based on data\n",
        "feature_vector_length = len(X_training[0])\n",
        "input_shape = (feature_vector_length,)\n",
        "print(f'Feature shape: {input_shape}')"
      ],
      "execution_count": null,
      "outputs": []
    },
    {
      "cell_type": "code",
      "metadata": {
        "id": "TKe_O6W85pD2"
      },
      "source": [
        "# Generate scatter plot for training data\n",
        "plt.scatter(X_training[:,0], X_training[:,1])\n",
        "plt.title('Nonlinear data')\n",
        "plt.xlabel('X1')\n",
        "plt.ylabel('X2')\n",
        "plt.show()"
      ],
      "execution_count": null,
      "outputs": []
    },
    {
      "cell_type": "code",
      "metadata": {
        "id": "gWZ4a89s5DRo"
      },
      "source": [
        "# Create the model\n",
        "model = Sequential()\n",
        "model.add(Dense(12, input_shape=input_shape, activation='relu', kernel_initializer='he_uniform'))\n",
        "model.add(Dense(8, activation='relu', kernel_initializer='he_uniform'))\n",
        "model.add(Dense(num_classes, activation='linear'))"
      ],
      "execution_count": null,
      "outputs": []
    },
    {
      "cell_type": "markdown",
      "metadata": {
        "id": "pJ-ITljP6GF3"
      },
      "source": [
        "Softmax activation function is capable of multiclass probability distribution. And it is built into CategoricalCrossentropy loss if from_logits = True"
      ]
    },
    {
      "cell_type": "code",
      "metadata": {
        "id": "nig4MY1z6EYt"
      },
      "source": [
        "# Configure the model and start training\n",
        "model.compile(loss=loss_function_used, optimizer=tensorflow.keras.optimizers.Adam(lr=0.001), metrics=['accuracy'])\n",
        "history = model.fit(X_training, Targets_training, epochs=30, batch_size=5, verbose=1, validation_split=0.2)"
      ],
      "execution_count": null,
      "outputs": []
    },
    {
      "cell_type": "code",
      "metadata": {
        "id": "8NCy2bWT6g9b"
      },
      "source": [
        "# Test the model after training\n",
        "test_results = model.evaluate(X_testing, Targets_testing, verbose=1)\n",
        "print(f'Test results - Loss: {test_results[0]} - Accuracy: {test_results[1]*100}%')"
      ],
      "execution_count": null,
      "outputs": []
    },
    {
      "cell_type": "markdown",
      "metadata": {
        "id": "yXbZnGEI6sAM"
      },
      "source": [
        "However, visualizing model performance is done a bit differently when it comes to visualizing the decision boundaries.\n",
        "'''\n",
        "  The Onehot2Int class is used to adapt the model so that it generates non-categorical data.\n",
        "  This is required by the `plot_decision_regions` function.\n",
        "  The code is courtesy of dr. Sebastian Raschka at https://github.com/rasbt/mlxtend/issues/607.\n",
        "  Copyright (c) 2014-2016, Sebastian Raschka. All rights reserved. Mlxtend is licensed as https://github.com/rasbt/mlxtend/blob/master/LICENSE-BSD3.txt.\n",
        "  \n",
        "'''"
      ]
    },
    {
      "cell_type": "code",
      "metadata": {
        "id": "I9otJTvp7EYl"
      },
      "source": [
        "# No hot encoding version It will allow us to generate the decision boundary plot \n",
        "class Onehot2Int(object):\n",
        "\n",
        "    def __init__(self, model):\n",
        "        self.model = model\n",
        "\n",
        "    def predict(self, X):\n",
        "        y_pred = self.model.predict(X)\n",
        "        return np.argmax(y_pred, axis=1)\n",
        "\n",
        "# fit keras_model\n",
        "keras_model_no_ohe = Onehot2Int(model)\n",
        "\n",
        "# Plot decision boundary\n",
        "plot_decision_regions(X_testing, np.argmax(Targets_testing, axis=1), clf=keras_model_no_ohe, legend=3)\n",
        "plt.show()"
      ],
      "execution_count": null,
      "outputs": []
    },
    {
      "cell_type": "code",
      "metadata": {
        "id": "IGNaZBO87LAX"
      },
      "source": [
        "# Visualize training process\n",
        "plt.plot(history.history['loss'], label='Categorical crossentropy loss (training data)')\n",
        "plt.plot(history.history['val_loss'], label='Categorical crossentropy loss (validation data)')\n",
        "plt.title('Categorical crossentropy loss for clusters')\n",
        "plt.ylabel('Categorical crossentropy loss value')\n",
        "plt.yscale('log')\n",
        "plt.xlabel('No. epoch')\n",
        "plt.legend(loc=\"upper left\")\n",
        "plt.show()"
      ],
      "execution_count": null,
      "outputs": []
    }
  ]
}