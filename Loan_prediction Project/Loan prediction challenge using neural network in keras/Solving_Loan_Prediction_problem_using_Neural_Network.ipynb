{
 "cells": [
  {
   "cell_type": "code",
   "execution_count": null,
   "metadata": {
    "colab": {
     "base_uri": "https://localhost:8080/",
     "height": 34
    },
    "id": "N1174ZAOqvyo",
    "outputId": "5a28a8c9-a48d-402d-f0db-a5690f272aa4"
   },
   "outputs": [
    {
     "name": "stdout",
     "output_type": "stream",
     "text": [
      "TensorFlow 1.x selected.\n"
     ]
    }
   ],
   "source": [
    "%tensorflow_version 1.x"
   ]
  },
  {
   "cell_type": "code",
   "execution_count": 1,
   "metadata": {
    "colab": {
     "base_uri": "https://localhost:8080/"
    },
    "id": "LIaQKG9MXfVc",
    "outputId": "5f207027-078a-44bb-dbc1-8edd8f2b5ae3"
   },
   "outputs": [
    {
     "data": {
      "text/plain": [
       "(614, 13)"
      ]
     },
     "execution_count": 1,
     "metadata": {},
     "output_type": "execute_result"
    }
   ],
   "source": [
    "#Preprocessing Steps\n",
    "#1.Filling missing vaues\n",
    "#2.converting catgorical values to numeric\n",
    "#3. bring all variables to 0 to 1\n",
    "import pandas as pd\n",
    "data=pd.read_csv(\"loan_data_set.csv\")\n",
    "data.shape"
   ]
  },
  {
   "cell_type": "code",
   "execution_count": 3,
   "metadata": {
    "colab": {
     "base_uri": "https://localhost:8080/"
    },
    "id": "vaNJ6r1lXiA6",
    "outputId": "fd41844f-3417-4a2c-cf0f-9669e62d261d"
   },
   "outputs": [
    {
     "data": {
      "text/plain": [
       "Loan_ID               0\n",
       "Gender               13\n",
       "Married               3\n",
       "Dependents           15\n",
       "Education             0\n",
       "Self_Employed        32\n",
       "ApplicantIncome       0\n",
       "CoapplicantIncome     0\n",
       "LoanAmount           22\n",
       "Loan_Amount_Term     14\n",
       "Credit_History       50\n",
       "Property_Area         0\n",
       "Loan_Status           0\n",
       "dtype: int64"
      ]
     },
     "execution_count": 3,
     "metadata": {
      "tags": []
     },
     "output_type": "execute_result"
    }
   ],
   "source": [
    "\n",
    "data.isnull().sum()"
   ]
  },
  {
   "cell_type": "code",
   "execution_count": 30,
   "metadata": {
    "colab": {
     "base_uri": "https://localhost:8080/",
     "height": 241
    },
    "id": "rlmwdKRu0sNN",
    "outputId": "590fcc4b-9458-45c5-cf95-f5429f51504e"
   },
   "outputs": [
    {
     "data": {
      "text/html": [
       "<div>\n",
       "<style scoped>\n",
       "    .dataframe tbody tr th:only-of-type {\n",
       "        vertical-align: middle;\n",
       "    }\n",
       "\n",
       "    .dataframe tbody tr th {\n",
       "        vertical-align: top;\n",
       "    }\n",
       "\n",
       "    .dataframe thead th {\n",
       "        text-align: right;\n",
       "    }\n",
       "</style>\n",
       "<table border=\"1\" class=\"dataframe\">\n",
       "  <thead>\n",
       "    <tr style=\"text-align: right;\">\n",
       "      <th></th>\n",
       "      <th>Loan_ID</th>\n",
       "      <th>Gender</th>\n",
       "      <th>Married</th>\n",
       "      <th>Dependents</th>\n",
       "      <th>Education</th>\n",
       "      <th>Self_Employed</th>\n",
       "      <th>ApplicantIncome</th>\n",
       "      <th>CoapplicantIncome</th>\n",
       "      <th>LoanAmount</th>\n",
       "      <th>Loan_Amount_Term</th>\n",
       "      <th>Credit_History</th>\n",
       "      <th>Property_Area</th>\n",
       "      <th>Loan_Status</th>\n",
       "    </tr>\n",
       "  </thead>\n",
       "  <tbody>\n",
       "    <tr>\n",
       "      <th>0</th>\n",
       "      <td>LP001002</td>\n",
       "      <td>Male</td>\n",
       "      <td>No</td>\n",
       "      <td>0</td>\n",
       "      <td>Graduate</td>\n",
       "      <td>No</td>\n",
       "      <td>5849</td>\n",
       "      <td>0.0</td>\n",
       "      <td>NaN</td>\n",
       "      <td>360.0</td>\n",
       "      <td>1.0</td>\n",
       "      <td>Urban</td>\n",
       "      <td>Y</td>\n",
       "    </tr>\n",
       "    <tr>\n",
       "      <th>1</th>\n",
       "      <td>LP001003</td>\n",
       "      <td>Male</td>\n",
       "      <td>Yes</td>\n",
       "      <td>1</td>\n",
       "      <td>Graduate</td>\n",
       "      <td>No</td>\n",
       "      <td>4583</td>\n",
       "      <td>1508.0</td>\n",
       "      <td>128.0</td>\n",
       "      <td>360.0</td>\n",
       "      <td>1.0</td>\n",
       "      <td>Rural</td>\n",
       "      <td>N</td>\n",
       "    </tr>\n",
       "    <tr>\n",
       "      <th>2</th>\n",
       "      <td>LP001005</td>\n",
       "      <td>Male</td>\n",
       "      <td>Yes</td>\n",
       "      <td>0</td>\n",
       "      <td>Graduate</td>\n",
       "      <td>Yes</td>\n",
       "      <td>3000</td>\n",
       "      <td>0.0</td>\n",
       "      <td>66.0</td>\n",
       "      <td>360.0</td>\n",
       "      <td>1.0</td>\n",
       "      <td>Urban</td>\n",
       "      <td>Y</td>\n",
       "    </tr>\n",
       "    <tr>\n",
       "      <th>3</th>\n",
       "      <td>LP001006</td>\n",
       "      <td>Male</td>\n",
       "      <td>Yes</td>\n",
       "      <td>0</td>\n",
       "      <td>Not Graduate</td>\n",
       "      <td>No</td>\n",
       "      <td>2583</td>\n",
       "      <td>2358.0</td>\n",
       "      <td>120.0</td>\n",
       "      <td>360.0</td>\n",
       "      <td>1.0</td>\n",
       "      <td>Urban</td>\n",
       "      <td>Y</td>\n",
       "    </tr>\n",
       "    <tr>\n",
       "      <th>4</th>\n",
       "      <td>LP001008</td>\n",
       "      <td>Male</td>\n",
       "      <td>No</td>\n",
       "      <td>0</td>\n",
       "      <td>Graduate</td>\n",
       "      <td>No</td>\n",
       "      <td>6000</td>\n",
       "      <td>0.0</td>\n",
       "      <td>141.0</td>\n",
       "      <td>360.0</td>\n",
       "      <td>1.0</td>\n",
       "      <td>Urban</td>\n",
       "      <td>Y</td>\n",
       "    </tr>\n",
       "  </tbody>\n",
       "</table>\n",
       "</div>"
      ],
      "text/plain": [
       "    Loan_ID Gender Married  ... Credit_History Property_Area Loan_Status\n",
       "0  LP001002   Male      No  ...            1.0         Urban           Y\n",
       "1  LP001003   Male     Yes  ...            1.0         Rural           N\n",
       "2  LP001005   Male     Yes  ...            1.0         Urban           Y\n",
       "3  LP001006   Male     Yes  ...            1.0         Urban           Y\n",
       "4  LP001008   Male      No  ...            1.0         Urban           Y\n",
       "\n",
       "[5 rows x 13 columns]"
      ]
     },
     "execution_count": 30,
     "metadata": {
      "tags": []
     },
     "output_type": "execute_result"
    }
   ],
   "source": [
    "data.head(5)"
   ]
  },
  {
   "cell_type": "code",
   "execution_count": 4,
   "metadata": {
    "colab": {
     "base_uri": "https://localhost:8080/"
    },
    "id": "QfpGuk_UXiX6",
    "outputId": "471bc116-eb68-4bbb-e64c-c835f8c2b0f9"
   },
   "outputs": [
    {
     "data": {
      "text/plain": [
       "Loan_ID               object\n",
       "Gender                object\n",
       "Married               object\n",
       "Dependents            object\n",
       "Education             object\n",
       "Self_Employed         object\n",
       "ApplicantIncome        int64\n",
       "CoapplicantIncome    float64\n",
       "LoanAmount           float64\n",
       "Loan_Amount_Term     float64\n",
       "Credit_History       float64\n",
       "Property_Area         object\n",
       "Loan_Status           object\n",
       "dtype: object"
      ]
     },
     "execution_count": 4,
     "metadata": {
      "tags": []
     },
     "output_type": "execute_result"
    }
   ],
   "source": [
    "data.dtypes\n",
    "#data.head(5)"
   ]
  },
  {
   "cell_type": "code",
   "execution_count": 31,
   "metadata": {
    "id": "iUwRakunXimi"
   },
   "outputs": [],
   "source": [
    "#imputing the missing values, for categorical use mode\n",
    "data[\"Gender\"].fillna(data[\"Gender\"].mode()[0],inplace=True)\n",
    "data[\"Married\"].fillna(data[\"Married\"].mode()[0],inplace=True)\n",
    "data[\"Dependents\"].fillna(data[\"Dependents\"].mode()[0],inplace=True)\n",
    "data[\"Self_Employed\"].fillna(data[\"Self_Employed\"].mode()[0],inplace=True)\n",
    "data[\"Loan_Amount_Term\"].fillna(data[\"Loan_Amount_Term\"].mode()[0],inplace=True)\n",
    "data[\"Credit_History\"].fillna(data[\"Credit_History\"].mode()[0],inplace=True)"
   ]
  },
  {
   "cell_type": "code",
   "execution_count": 32,
   "metadata": {
    "id": "-MtmJASgZuFE"
   },
   "outputs": [],
   "source": [
    "#for continuous data\n",
    "data[\"LoanAmount\"].fillna(data[\"LoanAmount\"].mean(),inplace=True)"
   ]
  },
  {
   "cell_type": "code",
   "execution_count": 33,
   "metadata": {
    "colab": {
     "base_uri": "https://localhost:8080/"
    },
    "id": "IOY8ORAYaPz8",
    "outputId": "ebf9b46c-090c-4e03-b0ee-5d3797e336ec"
   },
   "outputs": [
    {
     "data": {
      "text/plain": [
       "Loan_ID              0\n",
       "Gender               0\n",
       "Married              0\n",
       "Dependents           0\n",
       "Education            0\n",
       "Self_Employed        0\n",
       "ApplicantIncome      0\n",
       "CoapplicantIncome    0\n",
       "LoanAmount           0\n",
       "Loan_Amount_Term     0\n",
       "Credit_History       0\n",
       "Property_Area        0\n",
       "Loan_Status          0\n",
       "dtype: int64"
      ]
     },
     "execution_count": 33,
     "metadata": {
      "tags": []
     },
     "output_type": "execute_result"
    }
   ],
   "source": [
    "data.isnull().sum()"
   ]
  },
  {
   "cell_type": "code",
   "execution_count": 34,
   "metadata": {
    "id": "vyXi0ZDDaXtK"
   },
   "outputs": [],
   "source": [
    "#converting categories to numbers using map\n",
    "data[\"Gender\"]= data[\"Gender\"].map({'Male':0,'Female':1})\n",
    "data[\"Married\"]=data[\"Married\"].map({'No':0,'Yes':1})\n",
    "data[\"Dependents\"]=data[\"Dependents\"].map({'0':0,'1':1,'2':2,'3+':3})\n",
    "data[\"Education\"]=data[\"Education\"].map({'Graduate':1,'Not Graduate': 0})\n",
    "data[\"Self_Employed\"]=data[\"Self_Employed\"].map({'No':0,'Yes':1})\n",
    "data[\"Property_Area\"]=data[\"Property_Area\"].map({'Rural':0,'Semi-urban':1,'Urban':2})\n",
    "data[\"Loan_Status\"]=data[\"Loan_Status\"].map({'N':0,'Y':1})"
   ]
  },
  {
   "cell_type": "code",
   "execution_count": 35,
   "metadata": {
    "colab": {
     "base_uri": "https://localhost:8080/",
     "height": 224
    },
    "id": "jUK9XL7CaX8q",
    "outputId": "11b6b1d6-18da-4efc-d48f-ae8f38da5fec"
   },
   "outputs": [
    {
     "data": {
      "text/html": [
       "<div>\n",
       "<style scoped>\n",
       "    .dataframe tbody tr th:only-of-type {\n",
       "        vertical-align: middle;\n",
       "    }\n",
       "\n",
       "    .dataframe tbody tr th {\n",
       "        vertical-align: top;\n",
       "    }\n",
       "\n",
       "    .dataframe thead th {\n",
       "        text-align: right;\n",
       "    }\n",
       "</style>\n",
       "<table border=\"1\" class=\"dataframe\">\n",
       "  <thead>\n",
       "    <tr style=\"text-align: right;\">\n",
       "      <th></th>\n",
       "      <th>Loan_ID</th>\n",
       "      <th>Gender</th>\n",
       "      <th>Married</th>\n",
       "      <th>Dependents</th>\n",
       "      <th>Education</th>\n",
       "      <th>Self_Employed</th>\n",
       "      <th>ApplicantIncome</th>\n",
       "      <th>CoapplicantIncome</th>\n",
       "      <th>LoanAmount</th>\n",
       "      <th>Loan_Amount_Term</th>\n",
       "      <th>Credit_History</th>\n",
       "      <th>Property_Area</th>\n",
       "      <th>Loan_Status</th>\n",
       "    </tr>\n",
       "  </thead>\n",
       "  <tbody>\n",
       "    <tr>\n",
       "      <th>0</th>\n",
       "      <td>LP001002</td>\n",
       "      <td>0</td>\n",
       "      <td>0</td>\n",
       "      <td>0</td>\n",
       "      <td>1</td>\n",
       "      <td>0</td>\n",
       "      <td>5849</td>\n",
       "      <td>0.0</td>\n",
       "      <td>146.412162</td>\n",
       "      <td>360.0</td>\n",
       "      <td>1.0</td>\n",
       "      <td>2.0</td>\n",
       "      <td>1</td>\n",
       "    </tr>\n",
       "    <tr>\n",
       "      <th>1</th>\n",
       "      <td>LP001003</td>\n",
       "      <td>0</td>\n",
       "      <td>1</td>\n",
       "      <td>1</td>\n",
       "      <td>1</td>\n",
       "      <td>0</td>\n",
       "      <td>4583</td>\n",
       "      <td>1508.0</td>\n",
       "      <td>128.000000</td>\n",
       "      <td>360.0</td>\n",
       "      <td>1.0</td>\n",
       "      <td>0.0</td>\n",
       "      <td>0</td>\n",
       "    </tr>\n",
       "    <tr>\n",
       "      <th>2</th>\n",
       "      <td>LP001005</td>\n",
       "      <td>0</td>\n",
       "      <td>1</td>\n",
       "      <td>0</td>\n",
       "      <td>1</td>\n",
       "      <td>1</td>\n",
       "      <td>3000</td>\n",
       "      <td>0.0</td>\n",
       "      <td>66.000000</td>\n",
       "      <td>360.0</td>\n",
       "      <td>1.0</td>\n",
       "      <td>2.0</td>\n",
       "      <td>1</td>\n",
       "    </tr>\n",
       "    <tr>\n",
       "      <th>3</th>\n",
       "      <td>LP001006</td>\n",
       "      <td>0</td>\n",
       "      <td>1</td>\n",
       "      <td>0</td>\n",
       "      <td>0</td>\n",
       "      <td>0</td>\n",
       "      <td>2583</td>\n",
       "      <td>2358.0</td>\n",
       "      <td>120.000000</td>\n",
       "      <td>360.0</td>\n",
       "      <td>1.0</td>\n",
       "      <td>2.0</td>\n",
       "      <td>1</td>\n",
       "    </tr>\n",
       "    <tr>\n",
       "      <th>4</th>\n",
       "      <td>LP001008</td>\n",
       "      <td>0</td>\n",
       "      <td>0</td>\n",
       "      <td>0</td>\n",
       "      <td>1</td>\n",
       "      <td>0</td>\n",
       "      <td>6000</td>\n",
       "      <td>0.0</td>\n",
       "      <td>141.000000</td>\n",
       "      <td>360.0</td>\n",
       "      <td>1.0</td>\n",
       "      <td>2.0</td>\n",
       "      <td>1</td>\n",
       "    </tr>\n",
       "  </tbody>\n",
       "</table>\n",
       "</div>"
      ],
      "text/plain": [
       "    Loan_ID  Gender  Married  ...  Credit_History  Property_Area  Loan_Status\n",
       "0  LP001002       0        0  ...             1.0            2.0            1\n",
       "1  LP001003       0        1  ...             1.0            0.0            0\n",
       "2  LP001005       0        1  ...             1.0            2.0            1\n",
       "3  LP001006       0        1  ...             1.0            2.0            1\n",
       "4  LP001008       0        0  ...             1.0            2.0            1\n",
       "\n",
       "[5 rows x 13 columns]"
      ]
     },
     "execution_count": 35,
     "metadata": {
      "tags": []
     },
     "output_type": "execute_result"
    }
   ],
   "source": [
    "data.head(5)"
   ]
  },
  {
   "cell_type": "code",
   "execution_count": 11,
   "metadata": {
    "id": "WKqtKm0w1uHq"
   },
   "outputs": [],
   "source": [
    "#bringing all the variables in the range 0 to 1"
   ]
  },
  {
   "cell_type": "code",
   "execution_count": 21,
   "metadata": {
    "id": "olwATl4x1uXi"
   },
   "outputs": [],
   "source": [
    "data['Dependents']=(data['Dependents'] - data['Dependents'].min())/(data['Dependents'].max()-data['Dependents'].min())"
   ]
  },
  {
   "cell_type": "code",
   "execution_count": 36,
   "metadata": {
    "id": "qckviwPR1uny"
   },
   "outputs": [],
   "source": [
    "#applying for loop to bring all the variables in the range of 0 to 1\n",
    "for i in data.columns[1:]:\n",
    "  data[i]=(data[i] - data[i].min())/(data[i].max()-data[i].min())"
   ]
  },
  {
   "cell_type": "code",
   "execution_count": 25,
   "metadata": {
    "colab": {
     "base_uri": "https://localhost:8080/",
     "height": 224
    },
    "id": "C7USq1GD4gA1",
    "outputId": "4572b60f-da51-49c2-e87d-35e726f49977"
   },
   "outputs": [
    {
     "data": {
      "text/html": [
       "<div>\n",
       "<style scoped>\n",
       "    .dataframe tbody tr th:only-of-type {\n",
       "        vertical-align: middle;\n",
       "    }\n",
       "\n",
       "    .dataframe tbody tr th {\n",
       "        vertical-align: top;\n",
       "    }\n",
       "\n",
       "    .dataframe thead th {\n",
       "        text-align: right;\n",
       "    }\n",
       "</style>\n",
       "<table border=\"1\" class=\"dataframe\">\n",
       "  <thead>\n",
       "    <tr style=\"text-align: right;\">\n",
       "      <th></th>\n",
       "      <th>Loan_ID</th>\n",
       "      <th>Gender</th>\n",
       "      <th>Married</th>\n",
       "      <th>Dependents</th>\n",
       "      <th>Education</th>\n",
       "      <th>Self_Employed</th>\n",
       "      <th>ApplicantIncome</th>\n",
       "      <th>CoapplicantIncome</th>\n",
       "      <th>LoanAmount</th>\n",
       "      <th>Loan_Amount_Term</th>\n",
       "      <th>Credit_History</th>\n",
       "      <th>Property_Area</th>\n",
       "      <th>Loan_Status</th>\n",
       "    </tr>\n",
       "  </thead>\n",
       "  <tbody>\n",
       "    <tr>\n",
       "      <th>0</th>\n",
       "      <td>LP001002</td>\n",
       "      <td>0.0</td>\n",
       "      <td>0.0</td>\n",
       "      <td>0.000000</td>\n",
       "      <td>NaN</td>\n",
       "      <td>0.0</td>\n",
       "      <td>0.070489</td>\n",
       "      <td>0.000000</td>\n",
       "      <td>0.198860</td>\n",
       "      <td>0.74359</td>\n",
       "      <td>1.0</td>\n",
       "      <td>1.0</td>\n",
       "      <td>1.0</td>\n",
       "    </tr>\n",
       "    <tr>\n",
       "      <th>1</th>\n",
       "      <td>LP001003</td>\n",
       "      <td>0.0</td>\n",
       "      <td>1.0</td>\n",
       "      <td>0.333333</td>\n",
       "      <td>NaN</td>\n",
       "      <td>0.0</td>\n",
       "      <td>0.054830</td>\n",
       "      <td>0.036192</td>\n",
       "      <td>0.172214</td>\n",
       "      <td>0.74359</td>\n",
       "      <td>1.0</td>\n",
       "      <td>0.0</td>\n",
       "      <td>0.0</td>\n",
       "    </tr>\n",
       "    <tr>\n",
       "      <th>2</th>\n",
       "      <td>LP001005</td>\n",
       "      <td>0.0</td>\n",
       "      <td>1.0</td>\n",
       "      <td>0.000000</td>\n",
       "      <td>NaN</td>\n",
       "      <td>1.0</td>\n",
       "      <td>0.035250</td>\n",
       "      <td>0.000000</td>\n",
       "      <td>0.082489</td>\n",
       "      <td>0.74359</td>\n",
       "      <td>1.0</td>\n",
       "      <td>1.0</td>\n",
       "      <td>1.0</td>\n",
       "    </tr>\n",
       "    <tr>\n",
       "      <th>3</th>\n",
       "      <td>LP001006</td>\n",
       "      <td>0.0</td>\n",
       "      <td>1.0</td>\n",
       "      <td>0.000000</td>\n",
       "      <td>NaN</td>\n",
       "      <td>0.0</td>\n",
       "      <td>0.030093</td>\n",
       "      <td>0.056592</td>\n",
       "      <td>0.160637</td>\n",
       "      <td>0.74359</td>\n",
       "      <td>1.0</td>\n",
       "      <td>1.0</td>\n",
       "      <td>1.0</td>\n",
       "    </tr>\n",
       "    <tr>\n",
       "      <th>4</th>\n",
       "      <td>LP001008</td>\n",
       "      <td>0.0</td>\n",
       "      <td>0.0</td>\n",
       "      <td>0.000000</td>\n",
       "      <td>NaN</td>\n",
       "      <td>0.0</td>\n",
       "      <td>0.072356</td>\n",
       "      <td>0.000000</td>\n",
       "      <td>0.191027</td>\n",
       "      <td>0.74359</td>\n",
       "      <td>1.0</td>\n",
       "      <td>1.0</td>\n",
       "      <td>1.0</td>\n",
       "    </tr>\n",
       "  </tbody>\n",
       "</table>\n",
       "</div>"
      ],
      "text/plain": [
       "    Loan_ID  Gender  Married  ...  Credit_History  Property_Area  Loan_Status\n",
       "0  LP001002     0.0      0.0  ...             1.0            1.0          1.0\n",
       "1  LP001003     0.0      1.0  ...             1.0            0.0          0.0\n",
       "2  LP001005     0.0      1.0  ...             1.0            1.0          1.0\n",
       "3  LP001006     0.0      1.0  ...             1.0            1.0          1.0\n",
       "4  LP001008     0.0      0.0  ...             1.0            1.0          1.0\n",
       "\n",
       "[5 rows x 13 columns]"
      ]
     },
     "execution_count": 25,
     "metadata": {
      "tags": []
     },
     "output_type": "execute_result"
    }
   ],
   "source": [
    "data.head()"
   ]
  },
  {
   "cell_type": "code",
   "execution_count": 37,
   "metadata": {
    "id": "7Vz0RVx24qBL"
   },
   "outputs": [],
   "source": [
    "#data.to_csv(\"loan_prediction_data.csv\",index=False)\n",
    "#Compilation configures the model for training\n",
    "#define the loss fn and optimizers to use to update the params during the back propogation \n",
    "#keras framework has pre written codes for diff loss fns like mse, binary entropy\n",
    "#supports diff optimizers ike SGD, RMSPROP, Adam\n"
   ]
  },
  {
   "cell_type": "markdown",
   "metadata": {
    "id": "WjKX7h16glKA"
   },
   "source": [
    "# Steps to build a Neural Network using Keras\n",
    "\n",
    "<ol>1. Loading the dataset</ol>\n",
    "<ol>2. Creating training and validation set</ol>\n",
    "<ol>3. Defining the architecture of the model</ol>\n",
    "<ol>4. Compiling the model (defining loss function, optimizer)</ol>\n",
    "<ol>5. Training the model</ol>\n",
    "<ol>6. Evaluating model performance on training and validation set</ol>"
   ]
  },
  {
   "cell_type": "markdown",
   "metadata": {
    "id": "56f3bnnIglKI"
   },
   "source": [
    "## 1. Loading the dataset"
   ]
  },
  {
   "cell_type": "code",
   "execution_count": 42,
   "metadata": {
    "id": "as3tljzfglKN"
   },
   "outputs": [],
   "source": [
    "# importing the required libraries\n",
    "import pandas as pd\n",
    "import numpy as np\n",
    "import sklearn\n",
    "from sklearn.model_selection import train_test_split\n",
    "from sklearn.metrics import accuracy_score\n",
    "import matplotlib.pyplot as plt\n",
    "%matplotlib inline"
   ]
  },
  {
   "cell_type": "code",
   "execution_count": null,
   "metadata": {
    "colab": {
     "base_uri": "https://localhost:8080/",
     "height": 34
    },
    "id": "Bzp09t1S_07z",
    "outputId": "36299c21-5a1c-48a2-801b-2116013119e7"
   },
   "outputs": [
    {
     "name": "stdout",
     "output_type": "stream",
     "text": [
      "Version of sklearn: 0.22.2.post1\n"
     ]
    }
   ],
   "source": [
    "# check version on sklearn\n",
    "print('Version of sklearn:', sklearn.__version__)"
   ]
  },
  {
   "cell_type": "code",
   "execution_count": 43,
   "metadata": {
    "id": "UXQcz5rtglKe"
   },
   "outputs": [],
   "source": [
    "# loading the pre-processed dataset\n",
    "data = pd.read_csv('loan_prediction_data.csv')"
   ]
  },
  {
   "cell_type": "code",
   "execution_count": 44,
   "metadata": {
    "colab": {
     "base_uri": "https://localhost:8080/",
     "height": 224
    },
    "id": "ntuq8jfzglKp",
    "outputId": "472ae85a-8788-45e3-bc64-e4574e49f7d5",
    "scrolled": false
   },
   "outputs": [
    {
     "data": {
      "text/html": [
       "<div>\n",
       "<style scoped>\n",
       "    .dataframe tbody tr th:only-of-type {\n",
       "        vertical-align: middle;\n",
       "    }\n",
       "\n",
       "    .dataframe tbody tr th {\n",
       "        vertical-align: top;\n",
       "    }\n",
       "\n",
       "    .dataframe thead th {\n",
       "        text-align: right;\n",
       "    }\n",
       "</style>\n",
       "<table border=\"1\" class=\"dataframe\">\n",
       "  <thead>\n",
       "    <tr style=\"text-align: right;\">\n",
       "      <th></th>\n",
       "      <th>Loan_ID</th>\n",
       "      <th>Gender</th>\n",
       "      <th>Married</th>\n",
       "      <th>Dependents</th>\n",
       "      <th>Education</th>\n",
       "      <th>Self_Employed</th>\n",
       "      <th>ApplicantIncome</th>\n",
       "      <th>CoapplicantIncome</th>\n",
       "      <th>LoanAmount</th>\n",
       "      <th>Loan_Amount_Term</th>\n",
       "      <th>Credit_History</th>\n",
       "      <th>Property_Area</th>\n",
       "      <th>Loan_Status</th>\n",
       "    </tr>\n",
       "  </thead>\n",
       "  <tbody>\n",
       "    <tr>\n",
       "      <th>0</th>\n",
       "      <td>LP001002</td>\n",
       "      <td>0.0</td>\n",
       "      <td>0.0</td>\n",
       "      <td>0.000000</td>\n",
       "      <td>1.0</td>\n",
       "      <td>0.0</td>\n",
       "      <td>0.070489</td>\n",
       "      <td>0.000000</td>\n",
       "      <td>0.198860</td>\n",
       "      <td>0.74359</td>\n",
       "      <td>1.0</td>\n",
       "      <td>1.0</td>\n",
       "      <td>1.0</td>\n",
       "    </tr>\n",
       "    <tr>\n",
       "      <th>1</th>\n",
       "      <td>LP001003</td>\n",
       "      <td>0.0</td>\n",
       "      <td>1.0</td>\n",
       "      <td>0.333333</td>\n",
       "      <td>1.0</td>\n",
       "      <td>0.0</td>\n",
       "      <td>0.054830</td>\n",
       "      <td>0.036192</td>\n",
       "      <td>0.172214</td>\n",
       "      <td>0.74359</td>\n",
       "      <td>1.0</td>\n",
       "      <td>0.0</td>\n",
       "      <td>0.0</td>\n",
       "    </tr>\n",
       "    <tr>\n",
       "      <th>2</th>\n",
       "      <td>LP001005</td>\n",
       "      <td>0.0</td>\n",
       "      <td>1.0</td>\n",
       "      <td>0.000000</td>\n",
       "      <td>1.0</td>\n",
       "      <td>1.0</td>\n",
       "      <td>0.035250</td>\n",
       "      <td>0.000000</td>\n",
       "      <td>0.082489</td>\n",
       "      <td>0.74359</td>\n",
       "      <td>1.0</td>\n",
       "      <td>1.0</td>\n",
       "      <td>1.0</td>\n",
       "    </tr>\n",
       "    <tr>\n",
       "      <th>3</th>\n",
       "      <td>LP001006</td>\n",
       "      <td>0.0</td>\n",
       "      <td>1.0</td>\n",
       "      <td>0.000000</td>\n",
       "      <td>0.0</td>\n",
       "      <td>0.0</td>\n",
       "      <td>0.030093</td>\n",
       "      <td>0.056592</td>\n",
       "      <td>0.160637</td>\n",
       "      <td>0.74359</td>\n",
       "      <td>1.0</td>\n",
       "      <td>1.0</td>\n",
       "      <td>1.0</td>\n",
       "    </tr>\n",
       "    <tr>\n",
       "      <th>4</th>\n",
       "      <td>LP001008</td>\n",
       "      <td>0.0</td>\n",
       "      <td>0.0</td>\n",
       "      <td>0.000000</td>\n",
       "      <td>1.0</td>\n",
       "      <td>0.0</td>\n",
       "      <td>0.072356</td>\n",
       "      <td>0.000000</td>\n",
       "      <td>0.191027</td>\n",
       "      <td>0.74359</td>\n",
       "      <td>1.0</td>\n",
       "      <td>1.0</td>\n",
       "      <td>1.0</td>\n",
       "    </tr>\n",
       "  </tbody>\n",
       "</table>\n",
       "</div>"
      ],
      "text/plain": [
       "    Loan_ID  Gender  Married  ...  Credit_History  Property_Area  Loan_Status\n",
       "0  LP001002     0.0      0.0  ...             1.0            1.0          1.0\n",
       "1  LP001003     0.0      1.0  ...             1.0            0.0          0.0\n",
       "2  LP001005     0.0      1.0  ...             1.0            1.0          1.0\n",
       "3  LP001006     0.0      1.0  ...             1.0            1.0          1.0\n",
       "4  LP001008     0.0      0.0  ...             1.0            1.0          1.0\n",
       "\n",
       "[5 rows x 13 columns]"
      ]
     },
     "execution_count": 44,
     "metadata": {
      "tags": []
     },
     "output_type": "execute_result"
    }
   ],
   "source": [
    "# looking at the first five rows of the dataset\n",
    "data.head()"
   ]
  },
  {
   "cell_type": "code",
   "execution_count": 4,
   "metadata": {
    "colab": {
     "base_uri": "https://localhost:8080/"
    },
    "id": "2iqbEhkaglK0",
    "outputId": "fa57ab94-bc02-4cee-8cae-c3d2c097c1f8"
   },
   "outputs": [
    {
     "data": {
      "text/plain": [
       "Loan_ID              0\n",
       "Gender               0\n",
       "Married              0\n",
       "Dependents           0\n",
       "Education            0\n",
       "Self_Employed        0\n",
       "ApplicantIncome      0\n",
       "CoapplicantIncome    0\n",
       "LoanAmount           0\n",
       "Loan_Amount_Term     0\n",
       "Credit_History       0\n",
       "Property_Area        0\n",
       "Loan_Status          0\n",
       "dtype: int64"
      ]
     },
     "execution_count": 4,
     "metadata": {
      "tags": []
     },
     "output_type": "execute_result"
    }
   ],
   "source": [
    "# checking missing values\n",
    "data.isnull().sum()"
   ]
  },
  {
   "cell_type": "code",
   "execution_count": 5,
   "metadata": {
    "colab": {
     "base_uri": "https://localhost:8080/"
    },
    "id": "QOnBYzGnglK-",
    "outputId": "b08b5f01-aace-4d89-8e1c-52b93d44a271"
   },
   "outputs": [
    {
     "data": {
      "text/plain": [
       "Loan_ID               object\n",
       "Gender               float64\n",
       "Married              float64\n",
       "Dependents           float64\n",
       "Education            float64\n",
       "Self_Employed        float64\n",
       "ApplicantIncome      float64\n",
       "CoapplicantIncome    float64\n",
       "LoanAmount           float64\n",
       "Loan_Amount_Term     float64\n",
       "Credit_History       float64\n",
       "Property_Area        float64\n",
       "Loan_Status          float64\n",
       "dtype: object"
      ]
     },
     "execution_count": 5,
     "metadata": {
      "tags": []
     },
     "output_type": "execute_result"
    }
   ],
   "source": [
    "# checking the data type\n",
    "data.dtypes"
   ]
  },
  {
   "cell_type": "code",
   "execution_count": 6,
   "metadata": {
    "id": "TYuwXXuNglLI"
   },
   "outputs": [],
   "source": [
    "# removing the loan_ID since these are just the unique values\n",
    "data = data.drop('Loan_ID', axis=1)"
   ]
  },
  {
   "cell_type": "code",
   "execution_count": 7,
   "metadata": {
    "colab": {
     "base_uri": "https://localhost:8080/"
    },
    "id": "r7XkDkLqglLQ",
    "outputId": "29893d9a-53d1-4752-c3b1-ae5f69addeea"
   },
   "outputs": [
    {
     "data": {
      "text/plain": [
       "(614, 12)"
      ]
     },
     "execution_count": 7,
     "metadata": {
      "tags": []
     },
     "output_type": "execute_result"
    }
   ],
   "source": [
    "# looking at the shape of the data\n",
    "data.shape"
   ]
  },
  {
   "cell_type": "code",
   "execution_count": 46,
   "metadata": {
    "id": "wy5U75eiglLZ"
   },
   "outputs": [],
   "source": [
    "# separating the independent and dependent variables\n",
    "\n",
    "# storing all the independent variables as X\n",
    "X = data.drop('Loan_Status', axis=1)\n",
    "\n",
    "# storing the dependent variable as y\n",
    "y = data['Loan_Status']"
   ]
  },
  {
   "cell_type": "code",
   "execution_count": 47,
   "metadata": {
    "colab": {
     "base_uri": "https://localhost:8080/"
    },
    "id": "73Z_cXPVglLi",
    "outputId": "9d3067ea-f4f0-4503-8274-0da2bd336d40",
    "scrolled": true
   },
   "outputs": [
    {
     "data": {
      "text/plain": [
       "((614, 12), (614,))"
      ]
     },
     "execution_count": 47,
     "metadata": {
      "tags": []
     },
     "output_type": "execute_result"
    }
   ],
   "source": [
    "# shape of independent and dependent variables\n",
    "X.shape, y.shape"
   ]
  },
  {
   "cell_type": "markdown",
   "metadata": {
    "id": "2tIAIoEZglLr"
   },
   "source": [
    "## 2. Creating training and validation set"
   ]
  },
  {
   "cell_type": "code",
   "execution_count": 49,
   "metadata": {
    "id": "4jvMxwYZglLu"
   },
   "outputs": [],
   "source": [
    "# Creating training and validation set\n",
    "\n",
    "# stratify will make sure that the distribution of classes in train and validation set it similar\n",
    "# random state to regenerate the same train and validation set\n",
    "# test size 0.2 will keep 20% data in validation and remaining 80% in train set\n",
    "\n",
    "X_train,X_test,y_train,y_test = train_test_split(X,y,stratify=data['Loan_Status'],random_state=10,test_size=0.2)"
   ]
  },
  {
   "cell_type": "code",
   "execution_count": 50,
   "metadata": {
    "colab": {
     "base_uri": "https://localhost:8080/"
    },
    "id": "3HG0SIb2glL3",
    "outputId": "f9164bfa-0674-4c66-b4dd-40ff3509472b"
   },
   "outputs": [
    {
     "data": {
      "text/plain": [
       "(((491, 12), (491,)), ((123, 12), (123,)))"
      ]
     },
     "execution_count": 50,
     "metadata": {
      "tags": []
     },
     "output_type": "execute_result"
    }
   ],
   "source": [
    "# shape of training and validation set\n",
    "(X_train.shape, y_train.shape), (X_test.shape, y_test.shape)"
   ]
  },
  {
   "cell_type": "markdown",
   "metadata": {
    "id": "e9PNy3T1glL_"
   },
   "source": [
    "## 3. Defining the architecture of the model"
   ]
  },
  {
   "cell_type": "code",
   "execution_count": 14,
   "metadata": {
    "colab": {
     "base_uri": "https://localhost:8080/"
    },
    "id": "IsccfqUYglMC",
    "outputId": "2978de47-483a-40fd-f916-e6949088100e",
    "scrolled": true
   },
   "outputs": [
    {
     "name": "stdout",
     "output_type": "stream",
     "text": [
      "2.4.3\n"
     ]
    }
   ],
   "source": [
    "# checking the version of keras\n",
    "import keras\n",
    "print(keras.__version__)"
   ]
  },
  {
   "cell_type": "code",
   "execution_count": 16,
   "metadata": {
    "colab": {
     "base_uri": "https://localhost:8080/"
    },
    "id": "XMLvwm5wglMK",
    "outputId": "42db2a16-f9ac-4109-9c3a-b01cb1214566"
   },
   "outputs": [
    {
     "name": "stdout",
     "output_type": "stream",
     "text": [
      "2.4.1\n"
     ]
    }
   ],
   "source": [
    "# checking the version of tensorflow as tf uses keras at the back\n",
    "import tensorflow as tf\n",
    "print(tf.__version__)"
   ]
  },
  {
   "cell_type": "markdown",
   "metadata": {
    "id": "LbHAzzxZglMR"
   },
   "source": [
    "### a. Create a model\n",
    "\n",
    "<img src='https://drive.google.com/uc?id=1iZNZ3kwSHRNf-Irn3DZmMuBb6K-Lro7w'>"
   ]
  },
  {
   "cell_type": "code",
   "execution_count": 51,
   "metadata": {
    "id": "O-Pl7OO8glMT"
   },
   "outputs": [],
   "source": [
    "# importing the sequential model for neural network\n",
    "from keras.models import Sequential\n",
    "#Functional model later on"
   ]
  },
  {
   "cell_type": "code",
   "execution_count": 52,
   "metadata": {
    "id": "NDU-YCD0glMb",
    "scrolled": true
   },
   "outputs": [],
   "source": [
    "# importing different layers from keras, 3 layers, input, hidden an output, the dense is for defining the hidden and output\n",
    "from keras.layers import InputLayer, Dense "
   ]
  },
  {
   "cell_type": "code",
   "execution_count": 53,
   "metadata": {
    "colab": {
     "base_uri": "https://localhost:8080/"
    },
    "id": "xtOwk66BglMl",
    "outputId": "cba3059d-d447-4d46-a99b-ecab6049165b"
   },
   "outputs": [
    {
     "data": {
      "text/plain": [
       "(491, 12)"
      ]
     },
     "execution_count": 53,
     "metadata": {
      "tags": []
     },
     "output_type": "execute_result"
    }
   ],
   "source": [
    "# number of input neurons = no of input features\n",
    "X_train.shape"
   ]
  },
  {
   "cell_type": "code",
   "execution_count": 22,
   "metadata": {
    "colab": {
     "base_uri": "https://localhost:8080/"
    },
    "id": "dA2TqMbsglMq",
    "outputId": "19916cec-31d8-4def-8416-1db396f3d0e5",
    "scrolled": true
   },
   "outputs": [
    {
     "data": {
      "text/plain": [
       "11"
      ]
     },
     "execution_count": 22,
     "metadata": {
      "tags": []
     },
     "output_type": "execute_result"
    }
   ],
   "source": [
    "# number of features in the data\n",
    "X_train.shape[1]"
   ]
  },
  {
   "cell_type": "code",
   "execution_count": 55,
   "metadata": {
    "id": "ajgIDiLSglMx"
   },
   "outputs": [],
   "source": [
    "# defining input neurons\n",
    "input_neurons = X_train.shape[1]"
   ]
  },
  {
   "cell_type": "code",
   "execution_count": 23,
   "metadata": {
    "id": "fu76LxuVglM6"
   },
   "outputs": [],
   "source": [
    "# number of output neurons\n",
    "\n",
    "# since loan prediction is a binary classification problem, we will have single neuron in the output layer "
   ]
  },
  {
   "cell_type": "code",
   "execution_count": 56,
   "metadata": {
    "id": "taMhxkl4glNB"
   },
   "outputs": [],
   "source": [
    "# define number of output neurons as binary classification so 1\n",
    "output_neurons = 1"
   ]
  },
  {
   "cell_type": "code",
   "execution_count": null,
   "metadata": {
    "id": "cHsm2c7kglNF"
   },
   "outputs": [],
   "source": [
    "# number of hidden layers and hidden neurons we are setting as 2\n",
    "\n",
    "# It is a hyperparameter and we can pick the hidden layers and hidden neurons on our own"
   ]
  },
  {
   "cell_type": "code",
   "execution_count": 57,
   "metadata": {
    "id": "sMqdeXysqztM"
   },
   "outputs": [],
   "source": [
    "# define hidden layers and neuron in each layer (u can change anything they are hyperparameters)\n",
    "number_of_hidden_layers = 2\n",
    "neuron_hidden_layer_1 = 10\n",
    "neuron_hidden_layer_2 = 5"
   ]
  },
  {
   "cell_type": "code",
   "execution_count": null,
   "metadata": {
    "id": "HKTCB3K1glNQ"
   },
   "outputs": [],
   "source": [
    "# activation function of different layers\n",
    "\n",
    "# for now I have picked relu as an activation function for hidden layers, you can change it as well tanh\n",
    "# since it is a binary classification problem, I have used sigmoid activation function in the final layer"
   ]
  },
  {
   "cell_type": "code",
   "execution_count": 58,
   "metadata": {
    "id": "lJeV8sQyq1rj"
   },
   "outputs": [],
   "source": [
    "# defining the architecture of the model\n",
    "#to add layers use add and to set the no of neurons use units=\n",
    "model = Sequential()\n",
    "model.add(InputLayer(input_shape=(input_neurons,)))\n",
    "model.add(Dense(units=neuron_hidden_layer_1, activation='relu'))\n",
    "model.add(Dense(units=neuron_hidden_layer_2, activation='relu'))\n",
    "model.add(Dense(units=output_neurons, activation='sigmoid'))"
   ]
  },
  {
   "cell_type": "code",
   "execution_count": 60,
   "metadata": {
    "colab": {
     "base_uri": "https://localhost:8080/"
    },
    "id": "E9tXg_08q3n0",
    "outputId": "6845abc9-4aea-45dc-b9a8-a298387b8c61"
   },
   "outputs": [
    {
     "name": "stdout",
     "output_type": "stream",
     "text": [
      "Model: \"sequential_1\"\n",
      "_________________________________________________________________\n",
      "Layer (type)                 Output Shape              Param #   \n",
      "=================================================================\n",
      "dense (Dense)                (None, 10)                130       \n",
      "_________________________________________________________________\n",
      "dense_1 (Dense)              (None, 5)                 55        \n",
      "_________________________________________________________________\n",
      "dense_2 (Dense)              (None, 1)                 6         \n",
      "=================================================================\n",
      "Total params: 191\n",
      "Trainable params: 191\n",
      "Non-trainable params: 0\n",
      "_________________________________________________________________\n"
     ]
    }
   ],
   "source": [
    "# summary of the model, trainable parameters for each of the layer,\n",
    "# 10 bias values also and learnt during training process\n",
    "model.summary()"
   ]
  },
  {
   "cell_type": "code",
   "execution_count": 30,
   "metadata": {
    "colab": {
     "base_uri": "https://localhost:8080/"
    },
    "id": "PnsVNEbZglNf",
    "outputId": "eaede648-1208-468c-ac59-35e22cdc0031"
   },
   "outputs": [
    {
     "data": {
      "text/plain": [
       "110"
      ]
     },
     "execution_count": 30,
     "metadata": {
      "tags": []
     },
     "output_type": "execute_result"
    }
   ],
   "source": [
    "# number of parameters between input and first hidden layer-10 neurons * 11 * 10\n",
    "\n",
    "input_neurons*neuron_hidden_layer_1"
   ]
  },
  {
   "cell_type": "code",
   "execution_count": null,
   "metadata": {
    "colab": {
     "base_uri": "https://localhost:8080/",
     "height": 34
    },
    "id": "npisFmvIglNl",
    "outputId": "3dd0fe81-ec95-4a3d-eb1f-3cb560ea134a",
    "scrolled": true
   },
   "outputs": [
    {
     "data": {
      "text/plain": [
       "120"
      ]
     },
     "execution_count": 29,
     "metadata": {
      "tags": []
     },
     "output_type": "execute_result"
    }
   ],
   "source": [
    "# number of parameters between input and first hidden layer\n",
    "\n",
    "# adding the bias for each neuron of first hidden layer\n",
    "\n",
    "input_neurons*neuron_hidden_layer_1 + 10"
   ]
  },
  {
   "cell_type": "code",
   "execution_count": null,
   "metadata": {
    "colab": {
     "base_uri": "https://localhost:8080/",
     "height": 34
    },
    "id": "j37Xpr-8glNq",
    "outputId": "47b9b623-5fef-49cb-af33-99a4b28cf7a6"
   },
   "outputs": [
    {
     "data": {
      "text/plain": [
       "55"
      ]
     },
     "execution_count": 30,
     "metadata": {
      "tags": []
     },
     "output_type": "execute_result"
    }
   ],
   "source": [
    "# number of parameters between first and second hidden layer\n",
    "\n",
    "neuron_hidden_layer_1*neuron_hidden_layer_2 + 5"
   ]
  },
  {
   "cell_type": "code",
   "execution_count": null,
   "metadata": {
    "colab": {
     "base_uri": "https://localhost:8080/",
     "height": 34
    },
    "id": "UXrvaFnXglNu",
    "outputId": "a0296d75-8754-41aa-f090-dd97200c5288"
   },
   "outputs": [
    {
     "data": {
      "text/plain": [
       "6"
      ]
     },
     "execution_count": 31,
     "metadata": {
      "tags": []
     },
     "output_type": "execute_result"
    }
   ],
   "source": [
    "# number of parameters between second hidden and output layer\n",
    "\n",
    "neuron_hidden_layer_2*output_neurons + 1"
   ]
  },
  {
   "cell_type": "markdown",
   "metadata": {
    "id": "xm1bbbE_glNz"
   },
   "source": [
    "## 4. Compiling the model (defining loss function, optimizer)"
   ]
  },
  {
   "cell_type": "code",
   "execution_count": 61,
   "metadata": {
    "id": "P6hqkDWIglN0"
   },
   "outputs": [],
   "source": [
    "# compiling the model\n",
    "\n",
    "# loss as binary_crossentropy, since we have binary classification problem\n",
    "# defining the optimizer as adam\n",
    "# Evaluation metric as accuracy\n",
    "\n",
    "model.compile(loss='binary_crossentropy',optimizer='Adam',metrics=['accuracy'])"
   ]
  },
  {
   "cell_type": "markdown",
   "metadata": {
    "id": "T1oVMpRMglN5"
   },
   "source": [
    "## 5. Training the model"
   ]
  },
  {
   "cell_type": "code",
   "execution_count": 32,
   "metadata": {
    "colab": {
     "base_uri": "https://localhost:8080/"
    },
    "id": "pViJI3-TglN6",
    "outputId": "0fab60b5-f568-4323-ced3-c8b31cb0219c"
   },
   "outputs": [
    {
     "name": "stdout",
     "output_type": "stream",
     "text": [
      "Epoch 1/50\n",
      "16/16 [==============================] - 4s 29ms/step - loss: 0.8068 - accuracy: 0.3335 - val_loss: 0.7454 - val_accuracy: 0.3171\n",
      "Epoch 2/50\n",
      "16/16 [==============================] - 0s 4ms/step - loss: 0.7500 - accuracy: 0.3629 - val_loss: 0.7147 - val_accuracy: 0.3740\n",
      "Epoch 3/50\n",
      "16/16 [==============================] - 0s 4ms/step - loss: 0.7121 - accuracy: 0.4130 - val_loss: 0.6982 - val_accuracy: 0.5122\n",
      "Epoch 4/50\n",
      "16/16 [==============================] - 0s 4ms/step - loss: 0.6984 - accuracy: 0.5579 - val_loss: 0.6885 - val_accuracy: 0.6260\n",
      "Epoch 5/50\n",
      "16/16 [==============================] - 0s 5ms/step - loss: 0.6905 - accuracy: 0.5989 - val_loss: 0.6822 - val_accuracy: 0.6423\n",
      "Epoch 6/50\n",
      "16/16 [==============================] - 0s 4ms/step - loss: 0.6836 - accuracy: 0.6501 - val_loss: 0.6781 - val_accuracy: 0.6748\n",
      "Epoch 7/50\n",
      "16/16 [==============================] - 0s 4ms/step - loss: 0.6791 - accuracy: 0.6730 - val_loss: 0.6743 - val_accuracy: 0.7073\n",
      "Epoch 8/50\n",
      "16/16 [==============================] - 0s 4ms/step - loss: 0.6728 - accuracy: 0.6866 - val_loss: 0.6696 - val_accuracy: 0.6911\n",
      "Epoch 9/50\n",
      "16/16 [==============================] - 0s 4ms/step - loss: 0.6699 - accuracy: 0.6841 - val_loss: 0.6652 - val_accuracy: 0.6911\n",
      "Epoch 10/50\n",
      "16/16 [==============================] - 0s 4ms/step - loss: 0.6640 - accuracy: 0.6990 - val_loss: 0.6594 - val_accuracy: 0.6911\n",
      "Epoch 11/50\n",
      "16/16 [==============================] - 0s 4ms/step - loss: 0.6636 - accuracy: 0.6757 - val_loss: 0.6529 - val_accuracy: 0.6911\n",
      "Epoch 12/50\n",
      "16/16 [==============================] - 0s 4ms/step - loss: 0.6517 - accuracy: 0.7009 - val_loss: 0.6460 - val_accuracy: 0.6911\n",
      "Epoch 13/50\n",
      "16/16 [==============================] - 0s 4ms/step - loss: 0.6423 - accuracy: 0.7051 - val_loss: 0.6390 - val_accuracy: 0.6911\n",
      "Epoch 14/50\n",
      "16/16 [==============================] - 0s 4ms/step - loss: 0.6478 - accuracy: 0.6667 - val_loss: 0.6324 - val_accuracy: 0.6911\n",
      "Epoch 15/50\n",
      "16/16 [==============================] - 0s 4ms/step - loss: 0.6350 - accuracy: 0.6879 - val_loss: 0.6249 - val_accuracy: 0.6911\n",
      "Epoch 16/50\n",
      "16/16 [==============================] - 0s 4ms/step - loss: 0.6211 - accuracy: 0.7078 - val_loss: 0.6184 - val_accuracy: 0.6911\n",
      "Epoch 17/50\n",
      "16/16 [==============================] - 0s 4ms/step - loss: 0.6220 - accuracy: 0.6816 - val_loss: 0.6138 - val_accuracy: 0.6911\n",
      "Epoch 18/50\n",
      "16/16 [==============================] - 0s 4ms/step - loss: 0.6201 - accuracy: 0.6826 - val_loss: 0.6085 - val_accuracy: 0.6911\n",
      "Epoch 19/50\n",
      "16/16 [==============================] - 0s 4ms/step - loss: 0.6037 - accuracy: 0.7032 - val_loss: 0.6029 - val_accuracy: 0.6911\n",
      "Epoch 20/50\n",
      "16/16 [==============================] - 0s 4ms/step - loss: 0.6247 - accuracy: 0.6637 - val_loss: 0.5988 - val_accuracy: 0.6911\n",
      "Epoch 21/50\n",
      "16/16 [==============================] - 0s 4ms/step - loss: 0.6093 - accuracy: 0.6812 - val_loss: 0.5942 - val_accuracy: 0.6911\n",
      "Epoch 22/50\n",
      "16/16 [==============================] - 0s 4ms/step - loss: 0.6081 - accuracy: 0.6669 - val_loss: 0.5898 - val_accuracy: 0.6911\n",
      "Epoch 23/50\n",
      "16/16 [==============================] - 0s 4ms/step - loss: 0.5807 - accuracy: 0.7079 - val_loss: 0.5858 - val_accuracy: 0.6911\n",
      "Epoch 24/50\n",
      "16/16 [==============================] - 0s 4ms/step - loss: 0.5913 - accuracy: 0.6699 - val_loss: 0.5821 - val_accuracy: 0.6911\n",
      "Epoch 25/50\n",
      "16/16 [==============================] - 0s 4ms/step - loss: 0.5878 - accuracy: 0.6918 - val_loss: 0.5790 - val_accuracy: 0.6911\n",
      "Epoch 26/50\n",
      "16/16 [==============================] - 0s 4ms/step - loss: 0.5640 - accuracy: 0.7033 - val_loss: 0.5755 - val_accuracy: 0.6911\n",
      "Epoch 27/50\n",
      "16/16 [==============================] - 0s 4ms/step - loss: 0.5810 - accuracy: 0.6794 - val_loss: 0.5724 - val_accuracy: 0.6911\n",
      "Epoch 28/50\n",
      "16/16 [==============================] - 0s 4ms/step - loss: 0.5550 - accuracy: 0.6983 - val_loss: 0.5692 - val_accuracy: 0.6911\n",
      "Epoch 29/50\n",
      "16/16 [==============================] - 0s 5ms/step - loss: 0.5454 - accuracy: 0.7197 - val_loss: 0.5665 - val_accuracy: 0.6911\n",
      "Epoch 30/50\n",
      "16/16 [==============================] - 0s 4ms/step - loss: 0.5574 - accuracy: 0.6981 - val_loss: 0.5643 - val_accuracy: 0.6911\n",
      "Epoch 31/50\n",
      "16/16 [==============================] - 0s 4ms/step - loss: 0.5666 - accuracy: 0.6858 - val_loss: 0.5621 - val_accuracy: 0.6911\n",
      "Epoch 32/50\n",
      "16/16 [==============================] - 0s 4ms/step - loss: 0.5701 - accuracy: 0.6806 - val_loss: 0.5597 - val_accuracy: 0.6911\n",
      "Epoch 33/50\n",
      "16/16 [==============================] - 0s 4ms/step - loss: 0.5754 - accuracy: 0.6648 - val_loss: 0.5574 - val_accuracy: 0.6911\n",
      "Epoch 34/50\n",
      "16/16 [==============================] - 0s 4ms/step - loss: 0.5564 - accuracy: 0.6942 - val_loss: 0.5551 - val_accuracy: 0.6911\n",
      "Epoch 35/50\n",
      "16/16 [==============================] - 0s 4ms/step - loss: 0.5256 - accuracy: 0.7196 - val_loss: 0.5535 - val_accuracy: 0.6911\n",
      "Epoch 36/50\n",
      "16/16 [==============================] - 0s 4ms/step - loss: 0.5581 - accuracy: 0.6930 - val_loss: 0.5520 - val_accuracy: 0.6911\n",
      "Epoch 37/50\n",
      "16/16 [==============================] - 0s 5ms/step - loss: 0.5620 - accuracy: 0.6776 - val_loss: 0.5505 - val_accuracy: 0.6911\n",
      "Epoch 38/50\n",
      "16/16 [==============================] - 0s 4ms/step - loss: 0.5423 - accuracy: 0.6955 - val_loss: 0.5494 - val_accuracy: 0.6911\n",
      "Epoch 39/50\n",
      "16/16 [==============================] - 0s 4ms/step - loss: 0.5521 - accuracy: 0.6653 - val_loss: 0.5477 - val_accuracy: 0.6911\n",
      "Epoch 40/50\n",
      "16/16 [==============================] - 0s 4ms/step - loss: 0.5427 - accuracy: 0.6836 - val_loss: 0.5465 - val_accuracy: 0.6911\n",
      "Epoch 41/50\n",
      "16/16 [==============================] - 0s 4ms/step - loss: 0.5312 - accuracy: 0.6985 - val_loss: 0.5454 - val_accuracy: 0.6911\n",
      "Epoch 42/50\n",
      "16/16 [==============================] - 0s 4ms/step - loss: 0.5342 - accuracy: 0.6995 - val_loss: 0.5440 - val_accuracy: 0.6911\n",
      "Epoch 43/50\n",
      "16/16 [==============================] - 0s 4ms/step - loss: 0.5503 - accuracy: 0.6819 - val_loss: 0.5427 - val_accuracy: 0.6911\n",
      "Epoch 44/50\n",
      "16/16 [==============================] - 0s 4ms/step - loss: 0.5370 - accuracy: 0.6967 - val_loss: 0.5418 - val_accuracy: 0.6911\n",
      "Epoch 45/50\n",
      "16/16 [==============================] - 0s 4ms/step - loss: 0.5208 - accuracy: 0.7238 - val_loss: 0.5408 - val_accuracy: 0.6911\n",
      "Epoch 46/50\n",
      "16/16 [==============================] - 0s 4ms/step - loss: 0.5473 - accuracy: 0.6927 - val_loss: 0.5396 - val_accuracy: 0.6911\n",
      "Epoch 47/50\n",
      "16/16 [==============================] - 0s 4ms/step - loss: 0.5307 - accuracy: 0.6933 - val_loss: 0.5389 - val_accuracy: 0.6911\n",
      "Epoch 48/50\n",
      "16/16 [==============================] - 0s 5ms/step - loss: 0.5271 - accuracy: 0.6936 - val_loss: 0.5381 - val_accuracy: 0.6911\n",
      "Epoch 49/50\n",
      "16/16 [==============================] - 0s 4ms/step - loss: 0.5256 - accuracy: 0.6984 - val_loss: 0.5375 - val_accuracy: 0.6911\n",
      "Epoch 50/50\n",
      "16/16 [==============================] - 0s 4ms/step - loss: 0.5308 - accuracy: 0.6890 - val_loss: 0.5366 - val_accuracy: 0.6911\n"
     ]
    }
   ],
   "source": [
    "# training the model\n",
    "\n",
    "# passing the independent and dependent features for training set for training the model\n",
    "\n",
    "# validation data will be evaluated at the end of each epoch\n",
    "\n",
    "# setting the epochs as 50\n",
    "\n",
    "# storing the trained model in model_history variable which will be used to visualize the training process\n",
    "\n",
    "model_history = model.fit(X_train, y_train, validation_data=(X_test, y_test), epochs=50)"
   ]
  },
  {
   "cell_type": "markdown",
   "metadata": {
    "id": "hBZ_3aumglN9"
   },
   "source": [
    "## 6. Evaluating model performance on validation set"
   ]
  },
  {
   "cell_type": "code",
   "execution_count": 33,
   "metadata": {
    "colab": {
     "base_uri": "https://localhost:8080/"
    },
    "id": "qpBoHi7jglN_",
    "outputId": "0017cbb6-1d2e-4dad-8fc2-96ced2ad414c"
   },
   "outputs": [
    {
     "name": "stderr",
     "output_type": "stream",
     "text": [
      "/usr/local/lib/python3.7/dist-packages/tensorflow/python/keras/engine/sequential.py:450: UserWarning: `model.predict_classes()` is deprecated and will be removed after 2021-01-01. Please use instead:* `np.argmax(model.predict(x), axis=-1)`,   if your model does multi-class classification   (e.g. if it uses a `softmax` last-layer activation).* `(model.predict(x) > 0.5).astype(\"int32\")`,   if your model does binary classification   (e.g. if it uses a `sigmoid` last-layer activation).\n",
      "  warnings.warn('`model.predict_classes()` is deprecated and '\n"
     ]
    }
   ],
   "source": [
    "# getting predictions for the validation set\n",
    "prediction = model.predict_classes(X_test)"
   ]
  },
  {
   "cell_type": "code",
   "execution_count": 34,
   "metadata": {
    "colab": {
     "base_uri": "https://localhost:8080/"
    },
    "id": "jMapdscmglOD",
    "outputId": "6102b661-45eb-4680-eeba-983f768e529a"
   },
   "outputs": [
    {
     "data": {
      "text/plain": [
       "0.6910569105691057"
      ]
     },
     "execution_count": 34,
     "metadata": {
      "tags": []
     },
     "output_type": "execute_result"
    }
   ],
   "source": [
    "# calculating the accuracy on validation set\n",
    "accuracy_score(y_test, prediction)"
   ]
  },
  {
   "cell_type": "markdown",
   "metadata": {
    "id": "rLvGzvLcglOH"
   },
   "source": [
    "### Visualizing the model performance"
   ]
  },
  {
   "cell_type": "code",
   "execution_count": 37,
   "metadata": {
    "colab": {
     "base_uri": "https://localhost:8080/",
     "height": 295
    },
    "id": "68APv0UuglOI",
    "outputId": "2ad73635-2187-477b-f6ae-f45aa2f4a403"
   },
   "outputs": [
    {
     "data": {
      "image/png": "[encoded data removed]",
      "text/plain": [
       "<Figure size 432x288 with 1 Axes>"
      ]
     },
     "metadata": {
      "needs_background": "light",
      "tags": []
     },
     "output_type": "display_data"
    }
   ],
   "source": [
    "# summarize history for loss\n",
    "plt.plot(model_history.history['loss'])\n",
    "plt.plot(model_history.history['val_loss'])\n",
    "plt.title('model loss')\n",
    "plt.ylabel('loss')\n",
    "plt.xlabel('epoch')\n",
    "plt.legend(['train', 'validation'], loc='upper left')\n",
    "plt.show()"
   ]
  },
  {
   "cell_type": "code",
   "execution_count": 39,
   "metadata": {
    "colab": {
     "base_uri": "https://localhost:8080/",
     "height": 295
    },
    "id": "AiKe0wBbglOM",
    "outputId": "8a78b7f4-e5ac-4dc5-9572-4f8e83abd720"
   },
   "outputs": [
    {
     "data": {
      "image/png": "[encoded data removed]",
      "text/plain": [
       "<Figure size 432x288 with 1 Axes>"
      ]
     },
     "metadata": {
      "needs_background": "light",
      "tags": []
     },
     "output_type": "display_data"
    }
   ],
   "source": [
    "# summarize history for accuracy\n",
    "plt.plot(model_history.history['accuracy'])\n",
    "plt.plot(model_history.history['val_accuracy'])\n",
    "plt.title('model accuracy')\n",
    "plt.ylabel('accuracy')\n",
    "plt.xlabel('epoch')\n",
    "plt.legend(['train', 'validation'], loc='upper left')\n",
    "plt.show()"
   ]
  },
  {
   "cell_type": "code",
   "execution_count": null,
   "metadata": {
    "id": "tvVzU1Gwu7mb"
   },
   "outputs": [],
   "source": []
  }
 ],
 "metadata": {
  "accelerator": "GPU",
  "colab": {
   "collapsed_sections": [],
   "name": "Solving_Loan_Prediction_problem_using_Neural_Network.ipynb",
   "provenance": []
  },
  "kernelspec": {
   "display_name": "Python 3",
   "language": "python",
   "name": "python3"
  },
  "language_info": {
   "codemirror_mode": {
    "name": "ipython",
    "version": 3
   },
   "file_extension": ".py",
   "mimetype": "text/x-python",
   "name": "python",
   "nbconvert_exporter": "python",
   "pygments_lexer": "ipython3",
   "version": "3.6.4"
  }
 },
 "nbformat": 4,
 "nbformat_minor": 1
}
